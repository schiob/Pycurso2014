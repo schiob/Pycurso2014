{
 "metadata": {
  "name": "",
  "signature": "sha256:60b5ea07b607ed5bd1bd36bba8038f8076f10dcdaf70643b0dd5334396ef8b50"
 },
 "nbformat": 3,
 "nbformat_minor": 0,
 "worksheets": [
  {
   "cells": [
    {
     "cell_type": "code",
     "collapsed": false,
     "input": [
      "# Funci\u00f3n que reciba un string y un n\u00famero, e imprima ese estring \"n\" veces"
     ],
     "language": "python",
     "metadata": {},
     "outputs": [],
     "prompt_number": 34
    },
    {
     "cell_type": "code",
     "collapsed": false,
     "input": [
      "# Funci\u00f3n que le pases una lista con n\u00fameros y te regrese la suma de todos"
     ],
     "language": "python",
     "metadata": {},
     "outputs": [],
     "prompt_number": 35
    },
    {
     "cell_type": "heading",
     "level": 3,
     "metadata": {},
     "source": [
      "Dictionaries"
     ]
    },
    {
     "cell_type": "code",
     "collapsed": false,
     "input": [
      "# Crear nuevo diccionario\n",
      "\n",
      "# Literal\n",
      "cel = {'Mario': 84412343, 'Juanita': 811234453, 'Panchito': 8235464643}\n",
      "print(cel)\n",
      "calif = dict(Bob=70, Petrushka=80, Rupert= 50)\n",
      "print(calif)"
     ],
     "language": "python",
     "metadata": {},
     "outputs": [
      {
       "output_type": "stream",
       "stream": "stdout",
       "text": [
        "{'Juanita': 811234453, 'Panchito': 8235464643, 'Mario': 84412343}\n",
        "{'Bob': 70, 'Rupert': 50, 'Petrushka': 80}\n"
       ]
      }
     ],
     "prompt_number": 9
    },
    {
     "cell_type": "code",
     "collapsed": false,
     "input": [
      "# Acceder a \u00e9l\n",
      "print(cel['Juanita'])"
     ],
     "language": "python",
     "metadata": {},
     "outputs": [
      {
       "output_type": "stream",
       "stream": "stdout",
       "text": [
        "811234453\n"
       ]
      }
     ],
     "prompt_number": 10
    },
    {
     "cell_type": "code",
     "collapsed": false,
     "input": [
      "# Cambiar valor, agregar llave/valor\n",
      "cel['Raul'] = 855234523\n",
      "print(cel)"
     ],
     "language": "python",
     "metadata": {},
     "outputs": [
      {
       "output_type": "stream",
       "stream": "stdout",
       "text": [
        "{'Juanita': 811234453, 'Raul': 855234523, 'Panchito': 8235464643, 'Mario': 84412343}\n"
       ]
      }
     ],
     "prompt_number": 11
    },
    {
     "cell_type": "code",
     "collapsed": false,
     "input": [
      "# Borrar\n",
      "del cel['Panchito']\n",
      "# cel.pop('Panchito')\n",
      "print(cel)"
     ],
     "language": "python",
     "metadata": {},
     "outputs": [
      {
       "output_type": "stream",
       "stream": "stdout",
       "text": [
        "{'Juanita': 811234453, 'Raul': 855234523, 'Mario': 84412343}\n"
       ]
      }
     ],
     "prompt_number": 12
    },
    {
     "cell_type": "code",
     "collapsed": false,
     "input": [
      "# Metodos\n",
      "print(cel.keys())\n",
      "print(cel.values())\n",
      "print(cel.items())"
     ],
     "language": "python",
     "metadata": {},
     "outputs": [
      {
       "output_type": "stream",
       "stream": "stdout",
       "text": [
        "dict_keys(['Juanita', 'Raul', 'Mario'])\n",
        "dict_values([811234453, 855234523, 84412343])\n",
        "dict_items([('Juanita', 811234453), ('Raul', 855234523), ('Mario', 84412343)])\n"
       ]
      }
     ],
     "prompt_number": 15
    },
    {
     "cell_type": "heading",
     "level": 4,
     "metadata": {},
     "source": [
      "Looping"
     ]
    },
    {
     "cell_type": "code",
     "collapsed": false,
     "input": [
      "# Simple/llaves\n",
      "for x in cel:\n",
      "    print(x)"
     ],
     "language": "python",
     "metadata": {},
     "outputs": [
      {
       "output_type": "stream",
       "stream": "stdout",
       "text": [
        "Juanita\n",
        "Raul\n",
        "Mario\n"
       ]
      }
     ],
     "prompt_number": 17
    },
    {
     "cell_type": "code",
     "collapsed": false,
     "input": [
      "# Valores\n",
      "for v in cel.values():\n",
      "    print(v)"
     ],
     "language": "python",
     "metadata": {},
     "outputs": [
      {
       "output_type": "stream",
       "stream": "stdout",
       "text": [
        "811234453\n",
        "855234523\n",
        "84412343\n"
       ]
      }
     ],
     "prompt_number": 18
    },
    {
     "cell_type": "code",
     "collapsed": false,
     "input": [
      "# Los dos\n",
      "for k, v in cel.items():\n",
      "    print('el cel de {} es: {}'.format(k, v))"
     ],
     "language": "python",
     "metadata": {},
     "outputs": [
      {
       "output_type": "stream",
       "stream": "stdout",
       "text": [
        "el cel de Juanita es: 811234453\n",
        "el cel de Raul es: 855234523\n",
        "el cel de Mario es: 84412343\n"
       ]
      }
     ],
     "prompt_number": 19
    },
    {
     "cell_type": "heading",
     "level": 2,
     "metadata": {},
     "source": [
      "Importar"
     ]
    },
    {
     "cell_type": "code",
     "collapsed": false,
     "input": [
      "# Importa el m\u00f3dulo\n",
      "import math\n",
      "# Importa solo la funcion\n",
      "from math import cos\n",
      "# Importa todo\n",
      "from math import *\n",
      "# Importa y toma el nombre de ___\n",
      "import random as r\n",
      "from random import randint as rint"
     ],
     "language": "python",
     "metadata": {},
     "outputs": [],
     "prompt_number": 29
    },
    {
     "cell_type": "code",
     "collapsed": false,
     "input": [
      "print(math.factorial(10))\n",
      "print(cos(.5))"
     ],
     "language": "python",
     "metadata": {},
     "outputs": [
      {
       "output_type": "stream",
       "stream": "stdout",
       "text": [
        "3628800\n",
        "0.8775825618903728\n"
       ]
      }
     ],
     "prompt_number": 28
    },
    {
     "cell_type": "code",
     "collapsed": false,
     "input": [
      "print(r.random())\n",
      "print(rint(1, 40))"
     ],
     "language": "python",
     "metadata": {},
     "outputs": [
      {
       "output_type": "stream",
       "stream": "stdout",
       "text": [
        "0.24928252559105868\n",
        "37\n"
       ]
      }
     ],
     "prompt_number": 32
    },
    {
     "cell_type": "heading",
     "level": 3,
     "metadata": {},
     "source": [
      "Ejercicio"
     ]
    },
    {
     "cell_type": "code",
     "collapsed": false,
     "input": [
      "# Hacer una funci\u00f3n que regrese el resultado de tirar un dado \"n\" veces"
     ],
     "language": "python",
     "metadata": {},
     "outputs": [],
     "prompt_number": 33
    },
    {
     "cell_type": "code",
     "collapsed": false,
     "input": [
      "# Hacer una funci\u00f3n que muestre el resultado de tirar dos dados \"n\" veces"
     ],
     "language": "python",
     "metadata": {},
     "outputs": []
    }
   ],
   "metadata": {}
  }
 ]
}