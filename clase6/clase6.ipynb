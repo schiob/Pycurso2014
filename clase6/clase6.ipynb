{
 "metadata": {
  "name": "",
  "signature": "sha256:951c7cf924e6490418de2b88440d2a127650a308a1f36bc7d8d2862480e3380e"
 },
 "nbformat": 3,
 "nbformat_minor": 0,
 "worksheets": [
  {
   "cells": [
    {
     "cell_type": "code",
     "collapsed": false,
     "input": [
      "# Funci\u00f3n que reciba un string y un n\u00famero, e imprima ese string \"n\" veces\n",
      "\n",
      "def repNVec(word, num):\n",
      "    print((word+\"\\n\")*num)\n",
      "\n",
      "repNVec('helado', 5)"
     ],
     "language": "python",
     "metadata": {},
     "outputs": [
      {
       "output_type": "stream",
       "stream": "stdout",
       "text": [
        "helado\n",
        "helado\n",
        "helado\n",
        "helado\n",
        "helado\n",
        "\n"
       ]
      }
     ],
     "prompt_number": 7
    },
    {
     "cell_type": "code",
     "collapsed": false,
     "input": [
      "# Funci\u00f3n que le pases una lista con n\u00fameros y te regrese la suma de todos\n",
      "\n",
      "def sumita(li):\n",
      "    suma = 0\n",
      "    for num in li:\n",
      "        # suma += num\n",
      "        suma = suma + num\n",
      "    return suma\n",
      "\n",
      "lis = [1, 2, 3, 4, 3]\n",
      "\n",
      "var = sumita(lis)\n",
      "\n"
     ],
     "language": "python",
     "metadata": {},
     "outputs": [
      {
       "output_type": "stream",
       "stream": "stdout",
       "text": [
        "13\n"
       ]
      }
     ],
     "prompt_number": 10
    },
    {
     "cell_type": "heading",
     "level": 3,
     "metadata": {},
     "source": [
      "Dictionaries"
     ]
    },
    {
     "cell_type": "code",
     "collapsed": false,
     "input": [
      "# Crear nuevo diccionario\n",
      "\n",
      "# Literal\n",
      "cel = {'Mario': 84412343, 'Juanita': 811234453, 'Panchito': 8235464643}\n",
      "print(cel)\n",
      "calif = dict(Bob=70, Petrushka=80, Rupert= 50)\n",
      "print(calif)"
     ],
     "language": "python",
     "metadata": {},
     "outputs": [
      {
       "output_type": "stream",
       "stream": "stdout",
       "text": [
        "{'Mario': 84412343, 'Juanita': 811234453, 'Panchito': 8235464643}\n",
        "{'Rupert': 50, 'Petrushka': 80, 'Bob': 70}\n"
       ]
      }
     ],
     "prompt_number": 13
    },
    {
     "cell_type": "code",
     "collapsed": false,
     "input": [
      "# Acceder a \u00e9l\n",
      "print(cel['Juanita'])"
     ],
     "language": "python",
     "metadata": {},
     "outputs": [
      {
       "output_type": "stream",
       "stream": "stdout",
       "text": [
        "811234453\n"
       ]
      }
     ],
     "prompt_number": 10
    },
    {
     "cell_type": "code",
     "collapsed": false,
     "input": [
      "# Cambiar valor, agregar llave/valor\n",
      "cel['Raul'] = 855234523\n",
      "print(cel)"
     ],
     "language": "python",
     "metadata": {},
     "outputs": [
      {
       "output_type": "stream",
       "stream": "stdout",
       "text": [
        "{'Raul': 855234523, 'Mario': 84412343, 'Juanita': 811234453, 'Panchito': 8235464643}\n"
       ]
      }
     ],
     "prompt_number": 12
    },
    {
     "cell_type": "code",
     "collapsed": false,
     "input": [
      "# Borrar\n",
      "del cel['Panchito']\n",
      "# cel.pop('Panchito')\n",
      "print(cel)"
     ],
     "language": "python",
     "metadata": {},
     "outputs": [
      {
       "output_type": "stream",
       "stream": "stdout",
       "text": [
        "{'Juanita': 811234453, 'Raul': 855234523, 'Mario': 84412343}\n"
       ]
      }
     ],
     "prompt_number": 12
    },
    {
     "cell_type": "code",
     "collapsed": false,
     "input": [
      "# Metodos\n",
      "print(list(cel.keys()))\n",
      "print(cel.values())\n",
      "print(cel.items())"
     ],
     "language": "python",
     "metadata": {},
     "outputs": [
      {
       "output_type": "stream",
       "stream": "stdout",
       "text": [
        "['Mario', 'Juanita', 'Panchito']\n",
        "dict_values([84412343, 811234453, 8235464643])\n",
        "dict_items([('Mario', 84412343), ('Juanita', 811234453), ('Panchito', 8235464643)])\n"
       ]
      }
     ],
     "prompt_number": 14
    },
    {
     "cell_type": "heading",
     "level": 4,
     "metadata": {},
     "source": [
      "Looping"
     ]
    },
    {
     "cell_type": "code",
     "collapsed": false,
     "input": [
      "# Simple/llaves\n",
      "for x in cel.keys():\n",
      "    print(x)"
     ],
     "language": "python",
     "metadata": {},
     "outputs": [
      {
       "output_type": "stream",
       "stream": "stdout",
       "text": [
        "Juanita\n",
        "Raul\n",
        "Mario\n"
       ]
      }
     ],
     "prompt_number": 17
    },
    {
     "cell_type": "code",
     "collapsed": false,
     "input": [
      "# Valores\n",
      "for v in cel.values():\n",
      "    print(v)"
     ],
     "language": "python",
     "metadata": {},
     "outputs": [
      {
       "output_type": "stream",
       "stream": "stdout",
       "text": [
        "811234453\n",
        "855234523\n",
        "84412343\n"
       ]
      }
     ],
     "prompt_number": 18
    },
    {
     "cell_type": "code",
     "collapsed": false,
     "input": [
      "# Los dos\n",
      "for k, v in cel.items():\n",
      "    print('el cel de {} es: {}'.format(k, v))"
     ],
     "language": "python",
     "metadata": {},
     "outputs": [
      {
       "output_type": "stream",
       "stream": "stdout",
       "text": [
        "el cel de Juanita es: 811234453\n",
        "el cel de Raul es: 855234523\n",
        "el cel de Mario es: 84412343\n"
       ]
      }
     ],
     "prompt_number": 19
    },
    {
     "cell_type": "heading",
     "level": 2,
     "metadata": {},
     "source": [
      "Importar"
     ]
    },
    {
     "cell_type": "code",
     "collapsed": false,
     "input": [
      "# Importa el m\u00f3dulo\n",
      "import math\n",
      "# Importa solo la funcion\n",
      "from math import cos, sin\n",
      "# Importa todo\n",
      "from math import *\n",
      "# Importa y toma el nombre de ___\n",
      "import random as r\n",
      "from random import randint as rint"
     ],
     "language": "python",
     "metadata": {},
     "outputs": [],
     "prompt_number": 29
    },
    {
     "cell_type": "code",
     "collapsed": false,
     "input": [
      "print(math.factorial(10))\n",
      "print(cos(.5))"
     ],
     "language": "python",
     "metadata": {},
     "outputs": [
      {
       "output_type": "stream",
       "stream": "stdout",
       "text": [
        "3628800\n",
        "0.8775825618903728\n"
       ]
      }
     ],
     "prompt_number": 28
    },
    {
     "cell_type": "code",
     "collapsed": false,
     "input": [
      "print(r.random())\n",
      "print(rint(1, 40))"
     ],
     "language": "python",
     "metadata": {},
     "outputs": [
      {
       "output_type": "stream",
       "stream": "stdout",
       "text": [
        "0.24928252559105868\n",
        "37\n"
       ]
      }
     ],
     "prompt_number": 32
    },
    {
     "cell_type": "heading",
     "level": 3,
     "metadata": {},
     "source": [
      "Ejercicio"
     ]
    },
    {
     "cell_type": "code",
     "collapsed": false,
     "input": [
      "# Hacer una funci\u00f3n que regrese los resultados de tirar un dado \"n\" veces\n",
      "import random\n",
      "\n",
      "\"\"\"\n",
      "def dados(veces):\n",
      "    contador=0\n",
      "    lista=[0]*6\n",
      "    while contador < veces:\n",
      "        numero=random.randrange(1,7)\n",
      "        if numero==1:\n",
      "            lista[0]=lista[0]+1\n",
      "        if numero==2:\n",
      "            lista[1]=lista[1]+1\n",
      "        if numero==3:\n",
      "            lista[2]=lista[2]+1\n",
      "        if numero==4:\n",
      "            lista[3]=lista[3]+1\n",
      "        if numero==5:\n",
      "            lista[4]=lista[4]+1\n",
      "        if numero==6:\n",
      "            lista[5]=lista[5]+1\n",
      "        contador=contador+1\n",
      "    \n",
      "    print (lista)\n",
      "\n",
      "dados(1000)\n",
      "\n",
      "\"\"\"\n",
      "\n",
      "def dado(veces):\n",
      "    res = [0]*7\n",
      "    print(res)\n",
      "    for x in range(veces):\n",
      "        res[random.randint(1,6)] +=1\n",
      "    return res\n",
      "\n",
      "print(dado(100))\n",
      "            "
     ],
     "language": "python",
     "metadata": {},
     "outputs": [
      {
       "output_type": "stream",
       "stream": "stdout",
       "text": [
        "[0, 0, 0, 0, 0, 0, 0]\n",
        "[0, 18, 20, 15, 16, 13, 18]\n"
       ]
      }
     ],
     "prompt_number": 3
    },
    {
     "cell_type": "code",
     "collapsed": false,
     "input": [
      "# Hacer una funci\u00f3n que imprima el resultado de tirar dos dados \"n\" veces"
     ],
     "language": "python",
     "metadata": {},
     "outputs": []
    }
   ],
   "metadata": {}
  }
 ]
}