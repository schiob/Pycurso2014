{
 "metadata": {
  "name": "",
  "signature": "sha256:8d3e8dd8115670b25cb55d33db612f2de495f4ce7afe56f080f62898779764ec"
 },
 "nbformat": 3,
 "nbformat_minor": 0,
 "worksheets": [
  {
   "cells": [
    {
     "cell_type": "heading",
     "level": 2,
     "metadata": {},
     "source": [
      "Ejercicios"
     ]
    },
    {
     "cell_type": "markdown",
     "metadata": {},
     "source": [
      "http://coj.uci.cu/24h/problem.xhtml?abb=1293"
     ]
    },
    {
     "cell_type": "markdown",
     "metadata": {},
     "source": [
      "http://coj.uci.cu/24h/problem.xhtml?abb=1102\n",
      "\n",
      "Modificarlo para que sea multiplo de 11 y tambien menor que 1000"
     ]
    },
    {
     "cell_type": "heading",
     "level": 2,
     "metadata": {},
     "source": [
      "Listas"
     ]
    },
    {
     "cell_type": "code",
     "collapsed": false,
     "input": [
      "mylist = [1, 2, 3]\n",
      "print(mylist)\n",
      "print(mylist[0]) # prints 1\n",
      "print(mylist[1]) # prints 2\n",
      "print(mylist[2]) # prints 3"
     ],
     "language": "python",
     "metadata": {},
     "outputs": [
      {
       "output_type": "stream",
       "stream": "stdout",
       "text": [
        "[1, 2, 3]\n",
        "1\n",
        "2\n",
        "3\n"
       ]
      }
     ],
     "prompt_number": 9
    },
    {
     "cell_type": "code",
     "collapsed": false,
     "input": [
      "# List with diferent types\n",
      "other_list = ['hola', 3, 4.2, True]\n",
      "print(other_list)\n",
      "print(other_list[-1]) # indexing returns the item\n",
      "print(other_list[1:]) # slicing returns a new list"
     ],
     "language": "python",
     "metadata": {},
     "outputs": [
      {
       "output_type": "stream",
       "stream": "stdout",
       "text": [
        "['hola', 3, 4.2, True]\n",
        "True\n",
        "[3, 4.2, True]\n"
       ]
      }
     ],
     "prompt_number": 5
    },
    {
     "cell_type": "code",
     "collapsed": false,
     "input": [
      "cubes = [1, 8, 27, 65, 125]  # something's wrong here\n",
      "cubes[3] = 64  # replace the wrong value\n",
      "print(cubes)"
     ],
     "language": "python",
     "metadata": {},
     "outputs": [
      {
       "output_type": "stream",
       "stream": "stdout",
       "text": [
        "[1, 8, 27, 64, 125]\n"
       ]
      }
     ],
     "prompt_number": 1
    },
    {
     "cell_type": "code",
     "collapsed": false,
     "input": [
      "cubes.append(216)  # add the cube of 6\n",
      "cubes.append(7 ** 3)  # and the cube of 7\n",
      "print(cubes)"
     ],
     "language": "python",
     "metadata": {},
     "outputs": [
      {
       "output_type": "stream",
       "stream": "stdout",
       "text": [
        "[1, 8, 27, 64, 125, 216, 343]\n"
       ]
      }
     ],
     "prompt_number": 2
    },
    {
     "cell_type": "heading",
     "level": 4,
     "metadata": {},
     "source": [
      "Las listas son mutables"
     ]
    },
    {
     "cell_type": "code",
     "collapsed": false,
     "input": [
      "letters = ['a', 'b', 'c', 'd', 'e', 'f', 'g']\n",
      "letters"
     ],
     "language": "python",
     "metadata": {},
     "outputs": [
      {
       "metadata": {},
       "output_type": "pyout",
       "prompt_number": 19,
       "text": [
        "['a', 'b', 'c', 'd', 'e', 'f', 'g']"
       ]
      }
     ],
     "prompt_number": 19
    },
    {
     "cell_type": "code",
     "collapsed": false,
     "input": [
      "# replace some values\n",
      "letters[2:5] = ['C', 'D', 'E']\n",
      "letters"
     ],
     "language": "python",
     "metadata": {},
     "outputs": [
      {
       "metadata": {},
       "output_type": "pyout",
       "prompt_number": 20,
       "text": [
        "['a', 'b', 'C', 'D', 'E', 'f', 'g']"
       ]
      }
     ],
     "prompt_number": 20
    },
    {
     "cell_type": "code",
     "collapsed": false,
     "input": [
      "# now remove them\n",
      "letters[2:5] = []\n",
      "letters"
     ],
     "language": "python",
     "metadata": {},
     "outputs": [
      {
       "metadata": {},
       "output_type": "pyout",
       "prompt_number": 21,
       "text": [
        "['a', 'b', 'f', 'g']"
       ]
      }
     ],
     "prompt_number": 21
    },
    {
     "cell_type": "code",
     "collapsed": false,
     "input": [
      "# clear the list by replacing all the elements with an empty list\n",
      "letters[:] = []\n",
      "letters"
     ],
     "language": "python",
     "metadata": {},
     "outputs": [
      {
       "metadata": {},
       "output_type": "pyout",
       "prompt_number": 22,
       "text": [
        "[]"
       ]
      }
     ],
     "prompt_number": 22
    },
    {
     "cell_type": "heading",
     "level": 2,
     "metadata": {},
     "source": [
      "Loops"
     ]
    },
    {
     "cell_type": "heading",
     "level": 3,
     "metadata": {},
     "source": [
      "For loop"
     ]
    },
    {
     "cell_type": "code",
     "collapsed": false,
     "input": [
      "# Print 1 2 3\n",
      "\n",
      "la_lista = [1, 2, 3]\n",
      "\n",
      "for cada_numero in la_lista:\n",
      "    print(cada_numero)"
     ],
     "language": "python",
     "metadata": {},
     "outputs": [
      {
       "output_type": "stream",
       "stream": "stdout",
       "text": [
        "1\n",
        "2\n",
        "3\n"
       ]
      }
     ],
     "prompt_number": 3
    },
    {
     "cell_type": "code",
     "collapsed": false,
     "input": [
      "# Print the lenght of the strings\n",
      "\n",
      "words = ['pepito', \"tenia\", \"\"\"un\"\"\", 'caballo']\n",
      "print('lenght of words: ', len(words))\n",
      "\n",
      "for obj in words:\n",
      "    print(len(obj))"
     ],
     "language": "python",
     "metadata": {},
     "outputs": [
      {
       "output_type": "stream",
       "stream": "stdout",
       "text": [
        "lenght of words:  4\n",
        "6\n",
        "5\n",
        "2\n",
        "7\n"
       ]
      }
     ],
     "prompt_number": 25
    },
    {
     "cell_type": "code",
     "collapsed": false,
     "input": [
      "list2 = [[1,2,3], [4,5,6]]\n",
      "print(list2)\n",
      "print(list2[1][2])"
     ],
     "language": "python",
     "metadata": {},
     "outputs": [
      {
       "output_type": "stream",
       "stream": "stdout",
       "text": [
        "[[1, 2, 3], [4, 5, 6]]\n",
        "6\n"
       ]
      }
     ],
     "prompt_number": 7
    },
    {
     "cell_type": "code",
     "collapsed": false,
     "input": [
      "for x in range(10):\n",
      "    print(x)"
     ],
     "language": "python",
     "metadata": {},
     "outputs": [
      {
       "output_type": "stream",
       "stream": "stdout",
       "text": [
        "0\n",
        "1\n",
        "2\n",
        "3\n",
        "4\n",
        "5\n",
        "6\n",
        "7\n",
        "8\n",
        "9\n"
       ]
      }
     ],
     "prompt_number": 8
    },
    {
     "cell_type": "heading",
     "level": 3,
     "metadata": {},
     "source": [
      "while loop"
     ]
    },
    {
     "cell_type": "code",
     "collapsed": false,
     "input": [
      "x = 0\n",
      "\n",
      "while x < 5:\n",
      "    print(x)\n",
      "    x += 1 # Same as x = x+1"
     ],
     "language": "python",
     "metadata": {},
     "outputs": [
      {
       "output_type": "stream",
       "stream": "stdout",
       "text": [
        "0\n",
        "1\n",
        "2\n",
        "3\n",
        "4\n"
       ]
      }
     ],
     "prompt_number": 28
    },
    {
     "cell_type": "code",
     "collapsed": false,
     "input": [
      "while True:    \n",
      "    line = input('The hypnotoad is the best??')\n",
      "    if line == 'yes':\n",
      "        print('ALL GLORY TO THE HYPNOTOAD!')\n",
      "        break\n",
      "    print('Obey the hypnotoad')"
     ],
     "language": "python",
     "metadata": {},
     "outputs": [
      {
       "name": "stdout",
       "output_type": "stream",
       "stream": "stdout",
       "text": [
        "The hypnotoad is the best??no\n"
       ]
      },
      {
       "output_type": "stream",
       "stream": "stdout",
       "text": [
        "Obey the hypnotoad\n"
       ]
      },
      {
       "name": "stdout",
       "output_type": "stream",
       "stream": "stdout",
       "text": [
        "The hypnotoad is the best??no\n"
       ]
      },
      {
       "output_type": "stream",
       "stream": "stdout",
       "text": [
        "Obey the hypnotoad\n"
       ]
      },
      {
       "name": "stdout",
       "output_type": "stream",
       "stream": "stdout",
       "text": [
        "The hypnotoad is the best??asdf\n"
       ]
      },
      {
       "output_type": "stream",
       "stream": "stdout",
       "text": [
        "Obey the hypnotoad\n"
       ]
      },
      {
       "name": "stdout",
       "output_type": "stream",
       "stream": "stdout",
       "text": [
        "The hypnotoad is the best??456\n"
       ]
      },
      {
       "output_type": "stream",
       "stream": "stdout",
       "text": [
        "Obey the hypnotoad\n"
       ]
      },
      {
       "name": "stdout",
       "output_type": "stream",
       "stream": "stdout",
       "text": [
        "The hypnotoad is the best??yes\n"
       ]
      },
      {
       "output_type": "stream",
       "stream": "stdout",
       "text": [
        "ALL GLORY TO THE HYPNOTOAD!\n"
       ]
      }
     ],
     "prompt_number": 9
    },
    {
     "cell_type": "heading",
     "level": 2,
     "metadata": {},
     "source": [
      "Ejercicios"
     ]
    },
    {
     "cell_type": "markdown",
     "metadata": {},
     "source": [
      "http://coj.uci.cu/24h/problem.xhtml?abb=1388"
     ]
    }
   ],
   "metadata": {}
  }
 ]
}