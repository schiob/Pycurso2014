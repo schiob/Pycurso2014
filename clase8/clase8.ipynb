{
 "metadata": {
  "name": "",
  "signature": "sha256:e5cba548fc3eddf9521191405ccbaa675c60273d579c70883a7e6d877f83fb16"
 },
 "nbformat": 3,
 "nbformat_minor": 0,
 "worksheets": [
  {
   "cells": [
    {
     "cell_type": "code",
     "collapsed": false,
     "input": [
      "def scope_test():\n",
      "    def do_local():\n",
      "        spam = \"local spam\"\n",
      "    def do_nonlocal():\n",
      "        nonlocal spam\n",
      "        spam = \"nonlocal spam\"\n",
      "    def do_global():\n",
      "        global spam\n",
      "        spam = \"global spam\"\n",
      "    spam = \"test spam\"\n",
      "    do_local()\n",
      "    print(\"After local assignment:\", spam)\n",
      "    do_nonlocal()\n",
      "    print(\"After nonlocal assignment:\", spam)\n",
      "    do_global()\n",
      "    print(\"After global assignment:\", spam)\n",
      "\n",
      "scope_test()\n",
      "print(\"In global scope:\", spam)"
     ],
     "language": "python",
     "metadata": {},
     "outputs": [
      {
       "output_type": "stream",
       "stream": "stdout",
       "text": [
        "After local assignment: test spam\n",
        "After nonlocal assignment: nonlocal spam\n",
        "After global assignment: nonlocal spam\n",
        "In global scope: global spam\n"
       ]
      }
     ],
     "prompt_number": 7
    },
    {
     "cell_type": "code",
     "collapsed": false,
     "input": [
      "class MyClass:\n",
      "    \"\"\"A simple example class\"\"\"\n",
      "    i = 12345\n",
      "    def f(self):\n",
      "        return 'hello world'"
     ],
     "language": "python",
     "metadata": {},
     "outputs": [],
     "prompt_number": 1
    },
    {
     "cell_type": "code",
     "collapsed": false,
     "input": [
      "x = MyClass()\n",
      "y = MyClass()\n",
      "print(x.i, y.i)\n",
      "x.i = 12\n",
      "print(x.i, y.i)"
     ],
     "language": "python",
     "metadata": {},
     "outputs": [
      {
       "output_type": "stream",
       "stream": "stdout",
       "text": [
        "12345 12345\n",
        "12 12345\n"
       ]
      }
     ],
     "prompt_number": 3
    },
    {
     "cell_type": "code",
     "collapsed": false,
     "input": [
      "class Complex:\n",
      "    def __init__(self, realpart, imagpart):\n",
      "        self.r = realpart\n",
      "        self.i = imagpart\n",
      "x = Complex(3.0, -4.5)\n",
      "x.r, x.i"
     ],
     "language": "python",
     "metadata": {},
     "outputs": [
      {
       "metadata": {},
       "output_type": "pyout",
       "prompt_number": 4,
       "text": [
        "(3.0, -4.5)"
       ]
      }
     ],
     "prompt_number": 4
    },
    {
     "cell_type": "code",
     "collapsed": false,
     "input": [
      "class Dog:\n",
      "\n",
      "    kind = 'canine'         # class variable shared by all instances\n",
      "\n",
      "    def __init__(self, name):\n",
      "        self.name = name    # instance variable unique to each instance\n",
      "\n",
      "d = Dog('Fido')\n",
      "e = Dog('Buddy')\n",
      "print(d.kind)               # shared by all dogs\n",
      "print(e.kind)               # shared by all dogs\n",
      "print(d.name)               # unique to d\n",
      "print(e.name)  "
     ],
     "language": "python",
     "metadata": {},
     "outputs": [
      {
       "output_type": "stream",
       "stream": "stdout",
       "text": [
        "canine\n",
        "canine\n",
        "Fido\n",
        "Buddy\n"
       ]
      }
     ],
     "prompt_number": 5
    },
    {
     "cell_type": "code",
     "collapsed": false,
     "input": [
      "class Dog:\n",
      "\n",
      "    tricks = []             # mistaken use of a class variable\n",
      "\n",
      "    def __init__(self, name):\n",
      "        self.name = name\n",
      "\n",
      "    def add_trick(self, trick):\n",
      "        self.tricks.append(trick)\n",
      "\"\"\"\n",
      "class Dog:\n",
      "\n",
      "    def __init__(self, name):\n",
      "        self.name = name\n",
      "        self.tricks = []    # creates a new empty list for each dog\n",
      "\n",
      "    def add_trick(self, trick):\n",
      "        self.tricks.append(trick)\n",
      "\"\"\"\n",
      "d = Dog('Fido')\n",
      "e = Dog('Buddy')\n",
      "d.add_trick('roll over')\n",
      "e.add_trick('play dead')\n",
      "print(d.tricks)"
     ],
     "language": "python",
     "metadata": {},
     "outputs": [
      {
       "output_type": "stream",
       "stream": "stdout",
       "text": [
        "['roll over', 'play dead']\n"
       ]
      }
     ],
     "prompt_number": 6
    },
    {
     "cell_type": "code",
     "collapsed": false,
     "input": [
      "class Bag:\n",
      "    def __init__(self):\n",
      "        self.data = []\n",
      "    def add(self, x):\n",
      "        self.data.append(x)\n",
      "    def addtwice(self, x):\n",
      "        self.add(x)\n",
      "        self.add(x)"
     ],
     "language": "python",
     "metadata": {},
     "outputs": [],
     "prompt_number": 8
    },
    {
     "cell_type": "code",
     "collapsed": false,
     "input": [
      "class Mapping:\n",
      "    def __init__(self, iterable):\n",
      "        self.items_list = []\n",
      "        self.__update(iterable)\n",
      "\n",
      "    def update(self, iterable):\n",
      "        for item in iterable:\n",
      "            self.items_list.append(item)\n",
      "\n",
      "    __update = update   # private copy of original update() method\n",
      "\n",
      "class MappingSubclass(Mapping):\n",
      "\n",
      "    def update(self, keys, values):\n",
      "        # provides new signature for update()\n",
      "        # but does not break __init__()\n",
      "        for item in zip(keys, values):\n",
      "            self.items_list.append(item)"
     ],
     "language": "python",
     "metadata": {},
     "outputs": [],
     "prompt_number": 9
    },
    {
     "cell_type": "code",
     "collapsed": false,
     "input": [],
     "language": "python",
     "metadata": {},
     "outputs": []
    }
   ],
   "metadata": {}
  }
 ]
}