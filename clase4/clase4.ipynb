{
 "metadata": {
  "name": "",
  "signature": "sha256:9687e64f59170211c2ec36d52f937cb1603c060157b3528c9f786aaa0d5e80e1"
 },
 "nbformat": 3,
 "nbformat_minor": 0,
 "worksheets": [
  {
   "cells": [
    {
     "cell_type": "code",
     "collapsed": false,
     "input": [
      "# Fib\n",
      "a, b = 0, 1\n",
      "while b < 100:\n",
      "    print b\n",
      "    a, b = b, a + b"
     ],
     "language": "python",
     "metadata": {},
     "outputs": []
    },
    {
     "cell_type": "heading",
     "level": 2,
     "metadata": {},
     "source": [
      "String functions\n"
     ]
    },
    {
     "cell_type": "code",
     "collapsed": false,
     "input": [
      "# len() longitud \n",
      "s1 = \"Quesotote\"\n",
      "print(len(s1))"
     ],
     "language": "python",
     "metadata": {},
     "outputs": [
      {
       "output_type": "stream",
       "stream": "stdout",
       "text": [
        "9\n"
       ]
      }
     ],
     "prompt_number": 13
    },
    {
     "cell_type": "code",
     "collapsed": false,
     "input": [
      "# string.index() regresa el indice donde se encuentre la cadena\n",
      "print(s1.index(\"te\"))"
     ],
     "language": "python",
     "metadata": {},
     "outputs": [
      {
       "output_type": "stream",
       "stream": "stdout",
       "text": [
        "7\n"
       ]
      }
     ],
     "prompt_number": 10
    },
    {
     "cell_type": "code",
     "collapsed": false,
     "input": [
      "# string.count() regresa el n\u00famero de veces que se repite una cadena\n",
      "print(s1.count('ot'))"
     ],
     "language": "python",
     "metadata": {},
     "outputs": [
      {
       "output_type": "stream",
       "stream": "stdout",
       "text": [
        "2\n"
       ]
      }
     ],
     "prompt_number": 7
    },
    {
     "cell_type": "code",
     "collapsed": false,
     "input": [
      "# string.upper() regresa el mismo string todo en may\u00fasculas\n",
      "print(s1.upper())\n",
      "\n",
      "# string.lower() regresa el mismo string en min\u00fascula\n",
      "print(s1.lower())"
     ],
     "language": "python",
     "metadata": {},
     "outputs": [
      {
       "output_type": "stream",
       "stream": "stdout",
       "text": [
        "QUESOTOTE\n",
        "quesotote\n"
       ]
      }
     ],
     "prompt_number": 15
    },
    {
     "cell_type": "code",
     "collapsed": false,
     "input": [
      "# string.startswith() regresa un bool dependiendo si empieza con el str\n",
      "print(s1.startswith(\"Qu\"))\n",
      "\n",
      "# string.endswith() regresa un bool dependiendo si termina con el str\n",
      "print(s1.endswith(\"so\"))"
     ],
     "language": "python",
     "metadata": {},
     "outputs": [
      {
       "output_type": "stream",
       "stream": "stdout",
       "text": [
        "True\n",
        "False\n"
       ]
      }
     ],
     "prompt_number": 17
    },
    {
     "cell_type": "code",
     "collapsed": false,
     "input": [
      "# string.split() regresa una lista con los substrings divididos por el separador\n",
      "lista = s1.split('o')\n",
      "print(lista)"
     ],
     "language": "python",
     "metadata": {},
     "outputs": [
      {
       "output_type": "stream",
       "stream": "stdout",
       "text": [
        "['Ques', 't', 'te']\n"
       ]
      }
     ],
     "prompt_number": 19
    },
    {
     "cell_type": "markdown",
     "metadata": {},
     "source": [
      "http://coj.uci.cu/24h/problem.xhtml?abb=1933\n",
      "\n",
      "http://coj.uci.cu/24h/problem.xhtml?abb=1388\n"
     ]
    },
    {
     "cell_type": "code",
     "collapsed": false,
     "input": [],
     "language": "python",
     "metadata": {},
     "outputs": []
    }
   ],
   "metadata": {}
  }
 ]
}