{
 "metadata": {
  "name": "",
  "signature": "sha256:4ce4cb8bcf31bf081f34a11be5a58683bc9cc122a6e666861523ed7e47d533cf"
 },
 "nbformat": 3,
 "nbformat_minor": 0,
 "worksheets": [
  {
   "cells": [
    {
     "cell_type": "code",
     "collapsed": false,
     "input": [
      "# Dado un n\u00famero encontrar la suma de sus d\u00edgitos\n",
      "\n",
      "# Java style\n",
      "\"\"\"\n",
      "numero = input()\n",
      "n = len(numero)\n",
      "res = 0\n",
      "for i in range(n):\n",
      "    res = res + int(numero[i])\n",
      "print(res)\n",
      "\"\"\"\n",
      "\n",
      "# Python style =)\n",
      "\"\"\"\n",
      "numero = input()\n",
      "res = 0\n",
      "for digit in numero:\n",
      "    res = res + int(digit)\n",
      "\n",
      "print(res)\n",
      "\"\"\"\n",
      "\n",
      "# Black magic\n",
      "numero = int(input())\n",
      "res = 0\n",
      "while numero != 0:\n",
      "    temp = numero%10\n",
      "    res = res + temp\n",
      "    numero = numero // 10\n",
      "print(res)"
     ],
     "language": "python",
     "metadata": {},
     "outputs": [
      {
       "name": "stdout",
       "output_type": "stream",
       "stream": "stdout",
       "text": [
        "402\n"
       ]
      },
      {
       "output_type": "stream",
       "stream": "stdout",
       "text": [
        "6\n"
       ]
      }
     ],
     "prompt_number": 10
    },
    {
     "cell_type": "code",
     "collapsed": false,
     "input": [
      "def fib(n):\n",
      "    \"\"\"Print a Fibonacci series up to n.\"\"\"\n",
      "    a, b = 0, 1\n",
      "    while a < n:\n",
      "        print(a, end=' ')\n",
      "        a, b = b, a+b\n",
      "    print()"
     ],
     "language": "python",
     "metadata": {},
     "outputs": [],
     "prompt_number": 11
    },
    {
     "cell_type": "code",
     "collapsed": false,
     "input": [
      "fib(7)"
     ],
     "language": "python",
     "metadata": {},
     "outputs": [
      {
       "output_type": "stream",
       "stream": "stdout",
       "text": [
        "0 1 1 2 3 5 \n"
       ]
      }
     ],
     "prompt_number": 20
    },
    {
     "cell_type": "code",
     "collapsed": false,
     "input": [
      "print(type(fib))"
     ],
     "language": "python",
     "metadata": {},
     "outputs": [
      {
       "output_type": "stream",
       "stream": "stdout",
       "text": [
        "<class 'function'>\n"
       ]
      }
     ],
     "prompt_number": 29
    },
    {
     "cell_type": "code",
     "collapsed": false,
     "input": [
      "f = fib\n",
      "f(10)\n",
      "print(type(f))"
     ],
     "language": "python",
     "metadata": {},
     "outputs": [
      {
       "output_type": "stream",
       "stream": "stdout",
       "text": [
        "0 1 1 2 3 5 8 \n",
        "<class 'function'>\n"
       ]
      }
     ],
     "prompt_number": 10
    },
    {
     "cell_type": "code",
     "collapsed": false,
     "input": [
      "def fib2(n):\n",
      "    \"\"\"Return a list containing the Fibonacci series up to n.\"\"\"\n",
      "    result = []\n",
      "    a, b = 0, 1\n",
      "    while a < n:\n",
      "        result.append(a)    # see below\n",
      "        a, b = b, a+b\n",
      "    return result"
     ],
     "language": "python",
     "metadata": {},
     "outputs": [],
     "prompt_number": 12
    },
    {
     "cell_type": "code",
     "collapsed": false,
     "input": [
      "fib100 = fib2(100)\n",
      "print(fib100)"
     ],
     "language": "python",
     "metadata": {},
     "outputs": [
      {
       "output_type": "stream",
       "stream": "stdout",
       "text": [
        "[0, 1, 1, 2, 3, 5, 8, 13, 21, 34, 55, 89]\n"
       ]
      }
     ],
     "prompt_number": 15
    },
    {
     "cell_type": "code",
     "collapsed": false,
     "input": [
      "def ask_ok(prompt, retries=4, complaint='Yes or no, please!'):\n",
      "    while True:\n",
      "        ok = input(prompt)\n",
      "        if ok in ('y', 'ye', 'yes'):\n",
      "            return True\n",
      "        if ok in ('n', 'no', 'nop', 'nope'):\n",
      "            return False\n",
      "        retries = retries - 1\n",
      "        if retries < 0:\n",
      "            raise OSError('uncooperative user')\n",
      "        print(complaint)"
     ],
     "language": "python",
     "metadata": {},
     "outputs": [],
     "prompt_number": 16
    },
    {
     "cell_type": "code",
     "collapsed": false,
     "input": [
      "ask_ok('Te gusta el tequila?')"
     ],
     "language": "python",
     "metadata": {},
     "outputs": [
      {
       "name": "stdout",
       "output_type": "stream",
       "stream": "stdout",
       "text": [
        "Te gusta el tequila?y\n"
       ]
      },
      {
       "metadata": {},
       "output_type": "pyout",
       "prompt_number": 18,
       "text": [
        "True"
       ]
      }
     ],
     "prompt_number": 18
    },
    {
     "cell_type": "code",
     "collapsed": false,
     "input": [
      "def f(a, L=[]):\n",
      "    L.append(a)\n",
      "    return L\n",
      "\n",
      "print(f(1))\n",
      "print(f(2))\n",
      "print(f(3))"
     ],
     "language": "python",
     "metadata": {},
     "outputs": [
      {
       "output_type": "stream",
       "stream": "stdout",
       "text": [
        "[1]\n",
        "[1, 2]\n",
        "[1, 2, 3]\n"
       ]
      }
     ],
     "prompt_number": 22
    },
    {
     "cell_type": "code",
     "collapsed": false,
     "input": [
      "# Funci\u00f3n que tome unos n\u00famero y regrese el promedio"
     ],
     "language": "python",
     "metadata": {},
     "outputs": []
    }
   ],
   "metadata": {}
  }
 ]
}