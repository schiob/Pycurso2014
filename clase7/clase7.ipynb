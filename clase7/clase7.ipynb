{
 "metadata": {
  "name": "",
  "signature": "sha256:fae7c327a8a07e06685da2d5aef4aad1f4b64f934bd2bd1e8175995711f5a233"
 },
 "nbformat": 3,
 "nbformat_minor": 0,
 "worksheets": [
  {
   "cells": [
    {
     "cell_type": "heading",
     "level": 4,
     "metadata": {},
     "source": [
      "List comprehension"
     ]
    },
    {
     "cell_type": "code",
     "collapsed": false,
     "input": [
      "import random\n",
      "hombres_18 = ['Oscar', 'Jesus', 'Pedro', 'Panchito']\n",
      "mujeres_18 = ['Juanita', 'Karmen', 'Ursula', 'Maria', 'Panchita', 'Panchitas']\n",
      "alumnos = ['Petra', 'Oscar', 'Maria', 'Panchito', 'Tomas', 'Juan']\n",
      "pa_la_peda = [(persona,1) for persona in alumnos if persona in hombres_18]\n",
      "print(pa_la_peda)\n",
      "\n",
      "agenda = {str(i)+'y'+str(j): 0 for i in range(1,7) for j in range(i,7)}\n",
      "print(sorted(agenda.keys()))"
     ],
     "language": "python",
     "metadata": {},
     "outputs": [
      {
       "output_type": "stream",
       "stream": "stdout",
       "text": [
        "[('Oscar', 1), ('Panchito', 1)]\n",
        "['1y1', '1y2', '1y3', '1y4', '1y5', '1y6', '2y2', '2y3', '2y4', '2y5', '2y6', '3y3', '3y4', '3y5', '3y6', '4y4', '4y5', '4y6', '5y5', '5y6', '6y6']\n"
       ]
      }
     ],
     "prompt_number": 27
    },
    {
     "cell_type": "heading",
     "level": 3,
     "metadata": {},
     "source": [
      "Looping"
     ]
    },
    {
     "cell_type": "heading",
     "level": 4,
     "metadata": {},
     "source": [
      "Enumerate"
     ]
    },
    {
     "cell_type": "code",
     "collapsed": false,
     "input": [
      "for i, nombre in enumerate(alumnos):\n",
      "    print(i, nombre)"
     ],
     "language": "python",
     "metadata": {},
     "outputs": [
      {
       "output_type": "stream",
       "stream": "stdout",
       "text": [
        "0 Petra\n",
        "1 Oscar\n",
        "2 Maria\n",
        "3 Panchito\n",
        "4 Tomas\n",
        "5 Juan\n"
       ]
      }
     ],
     "prompt_number": 26
    },
    {
     "cell_type": "heading",
     "level": 4,
     "metadata": {},
     "source": [
      "zip"
     ]
    },
    {
     "cell_type": "code",
     "collapsed": false,
     "input": [
      "print(list(zip(hombres_18, mujeres_18)))\n",
      "for h, m in zip(hombres_18, mujeres_18):\n",
      "    print(h, m)"
     ],
     "language": "python",
     "metadata": {},
     "outputs": [
      {
       "output_type": "stream",
       "stream": "stdout",
       "text": [
        "[('Oscar', 'Juanita'), ('Jesus', 'Karmen'), ('Pedro', 'Ursula'), ('Panchito', 'Maria')]\n",
        "Oscar Juanita\n",
        "Jesus Karmen\n",
        "Pedro Ursula\n",
        "Panchito Maria\n"
       ]
      }
     ],
     "prompt_number": 33
    },
    {
     "cell_type": "heading",
     "level": 4,
     "metadata": {},
     "source": [
      "reversed"
     ]
    },
    {
     "cell_type": "code",
     "collapsed": false,
     "input": [
      "for nombre in reversed(hombres_18):\n",
      "    print(nombre)"
     ],
     "language": "python",
     "metadata": {},
     "outputs": [
      {
       "output_type": "stream",
       "stream": "stdout",
       "text": [
        "('Juanita', 'Panchito')\n",
        "('Karmen', 'Pedro')\n",
        "('Maria', 'Jesus')\n"
       ]
      }
     ],
     "prompt_number": 37
    },
    {
     "cell_type": "heading",
     "level": 4,
     "metadata": {},
     "source": [
      "sorted"
     ]
    },
    {
     "cell_type": "code",
     "collapsed": false,
     "input": [
      "for nombre in sorted(hombres_18):\n",
      "    print(nombre)"
     ],
     "language": "python",
     "metadata": {},
     "outputs": [
      {
       "output_type": "stream",
       "stream": "stdout",
       "text": [
        "Jesus\n",
        "Oscar\n",
        "Panchito\n",
        "Pedro\n"
       ]
      }
     ],
     "prompt_number": 38
    },
    {
     "cell_type": "heading",
     "level": 4,
     "metadata": {},
     "source": [
      "set"
     ]
    },
    {
     "cell_type": "code",
     "collapsed": false,
     "input": [
      "print(set(mujeres_18))\n",
      "for n in set(mujeres_18):\n",
      "    print(n)"
     ],
     "language": "python",
     "metadata": {},
     "outputs": [
      {
       "output_type": "stream",
       "stream": "stdout",
       "text": [
        "{'Karmen', 'Juanita', 'Ursula', 'Maria', 'Panchita'}\n",
        "Karmen\n",
        "Juanita\n",
        "Ursula\n",
        "Maria\n",
        "Panchita\n"
       ]
      }
     ],
     "prompt_number": 43
    },
    {
     "cell_type": "code",
     "collapsed": false,
     "input": [],
     "language": "python",
     "metadata": {},
     "outputs": []
    }
   ],
   "metadata": {}
  }
 ]
}